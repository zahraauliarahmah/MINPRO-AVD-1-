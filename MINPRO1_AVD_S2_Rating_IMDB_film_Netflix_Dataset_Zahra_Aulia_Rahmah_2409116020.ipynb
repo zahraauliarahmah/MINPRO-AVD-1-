{
  "nbformat": 4,
  "nbformat_minor": 0,
  "metadata": {
    "colab": {
      "provenance": [],
      "authorship_tag": "ABX9TyNuszmytg0Mf1xFkxaW57v/",
      "include_colab_link": true
    },
    "kernelspec": {
      "name": "python3",
      "display_name": "Python 3"
    },
    "language_info": {
      "name": "python"
    }
  },
  "cells": [
    {
      "cell_type": "markdown",
      "metadata": {
        "id": "view-in-github",
        "colab_type": "text"
      },
      "source": [
        "<a href=\"https://colab.research.google.com/github/zahraauliarahmah/MINPRO-AVD-1-/blob/main/MINPRO1_AVD_S2_Rating_IMDB_film_Netflix_Dataset_Zahra_Aulia_Rahmah_2409116020.ipynb\" target=\"_parent\"><img src=\"https://colab.research.google.com/assets/colab-badge.svg\" alt=\"Open In Colab\"/></a>"
      ]
    },
    {
      "cell_type": "markdown",
      "source": [
        "# BUSINNESS UNDERSTANDING"
      ],
      "metadata": {
        "id": "nxYwgQucHDMz"
      }
    },
    {
      "cell_type": "markdown",
      "source": [
        "# Business Objective"
      ],
      "metadata": {
        "id": "Admm1tDUIHVC"
      }
    },
    {
      "cell_type": "markdown",
      "source": [
        "Netflix adalah salah satu layanan streaming terbesar di dunia yang memproduksi berbagai film orisinal. Rating IMDb menjadi indikator utama dalam mengukur kualitas dan popularitas film di platform ini.\n",
        "\n",
        "Tujuan utama proyek ini adalah untuk menganalisis faktor-faktor yang mempengaruhi rating IMDb film Netflix berdasarkan genre, durasi, dan tahun rilis. Dengan wawasan ini, Netflix dapat meningkatkan kualitas film yang diproduksi, menyesuaikan strategi pemasaran, serta mengoptimalkan rekomendasi film untuk pengguna."
      ],
      "metadata": {
        "id": "4rM5fQHoIhZh"
      }
    },
    {
      "cell_type": "markdown",
      "source": [
        "# Assess Situation"
      ],
      "metadata": {
        "id": "BQBuXGbfJDYF"
      }
    },
    {
      "cell_type": "markdown",
      "source": [
        "Dalam industri streaming yang kompetitif, Netflix bersaing dengan platform lain seperti Disney+, HBO Max, dan Amazon Prime. Pemahaman mendalam terhadap tren rating film dapat membantu Netflix dalam mengembangkan strategi produksi dan distribusi yang lebih efektif.\n",
        "\n",
        "Faktor-faktor yang dapat mempengaruhi rating IMDb meliputi:\n",
        "- **Genre:** Apakah ada genre tertentu yang cenderung memiliki rating lebih tinggi atau lebih rendah?\n",
        "- **Durasi:** Apakah durasi film berhubungan dengan rating yang diperoleh?\n",
        "- **Tahun Rilis:** Apakah ada tren peningkatan atau penurunan rating dari tahun ke tahun?\n",
        "\n",
        "Dengan menganalisis faktor-faktor ini, Netflix dapat mengambil keputusan yang lebih baik dalam pengembangan film masa depan."
      ],
      "metadata": {
        "id": "mdQUoYVYJbEL"
      }
    },
    {
      "cell_type": "markdown",
      "source": [
        "# Data Mining Goals"
      ],
      "metadata": {
        "id": "uk468MCZJpWb"
      }
    },
    {
      "cell_type": "markdown",
      "source": [
        "- Menganalisis distribusi rating IMDb berdasarkan genre film.\n",
        "- Mengukur hubungan antara durasi film dan rating IMDb.\n",
        "- Melihat tren rata-rata rating IMDb dari tahun ke tahun.\n",
        "- Menggunakan model regresi sederhana untuk memprediksi rating berdasarkan genre dan durasi film.\n"
      ],
      "metadata": {
        "id": "YD2Oesg5J5Cv"
      }
    },
    {
      "cell_type": "markdown",
      "source": [
        "# Project Plan"
      ],
      "metadata": {
        "id": "FFkAYK79KJMN"
      }
    },
    {
      "cell_type": "markdown",
      "source": [
        "1. **Pengumpulan Data**:\n",
        "\n",
        "Menggunakan dataset \"Netflix Original Films IMDB Scores\" dari Kaggle.\n",
        "2. **Eksplorasi Data**:\n",
        "\n",
        "Memeriksa distribusi rating, genre, dan durasi.\n",
        "3. **Analisis Korelasi**:\n",
        "\n",
        " Mengidentifikasi hubungan antara durasi dan rating.\n",
        "4. **Visualisasi Data**:\n",
        "\n",
        " Menampilkan tren rating berdasarkan genre dan tahun rilis.\n",
        "5. **Model Prediksi**:\n",
        "\n",
        "Membangun model sederhana untuk memprediksi rating berdasarkan fitur yang tersedia.\n",
        "6. **Interpretasi & Kesimpulan**:\n",
        "\n",
        "Menyusun laporan hasil analisis dan wawasan yang didapat.\n",
        "\n",
        "---"
      ],
      "metadata": {
        "id": "2greLdQCLZ0j"
      }
    }
  ]
}